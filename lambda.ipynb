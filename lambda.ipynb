{
  "nbformat": 4,
  "nbformat_minor": 0,
  "metadata": {
    "colab": {
      "name": "lambda.ipynb",
      "version": "0.3.2",
      "provenance": [],
      "include_colab_link": true
    },
    "kernelspec": {
      "name": "python3",
      "display_name": "Python 3"
    }
  },
  "cells": [
    {
      "cell_type": "markdown",
      "metadata": {
        "id": "view-in-github",
        "colab_type": "text"
      },
      "source": [
        "[View in Colaboratory](https://colab.research.google.com/github/luosz/colab/blob/master/lambda.ipynb)"
      ]
    },
    {
      "metadata": {
        "id": "kbVtfUWtx6Lf",
        "colab_type": "code",
        "colab": {
          "base_uri": "https://localhost:8080/",
          "height": 565
        },
        "outputId": "74a7bd8b-4223-4c42-ec14-8523a6d0de11"
      },
      "cell_type": "code",
      "source": [
        "import mechanicalsoup\n",
        "import json\n",
        "\n",
        "def fetch():\n",
        "    # Connect to duckduckgo\n",
        "    browser = mechanicalsoup.StatefulBrowser()\n",
        "    browser.open(\"https://duckduckgo.com/\")\n",
        "    \n",
        "    # Fill-in the search form\n",
        "    browser.select_form('#search_form_homepage')\n",
        "    browser[\"q\"] = \"MechanicalSoup\"\n",
        "    browser.submit_selected()\n",
        "    \n",
        "    # Display the results\n",
        "    return {link.text: link.attrs['href'] for link in browser.get_current_page().select('a.result__a')}\n",
        "\n",
        "def lambda_handler(event, context):\n",
        "    # TODO implement\n",
        "    return {\n",
        "        \"statusCode\": 200,\n",
        "        \"body\": json.dumps('Hello from Lambda!'),\n",
        "        \"text\": json.dumps(fetch())\n",
        "    }\n",
        "\n",
        "if __name__ == \"__main__\":\n",
        "    d = json.loads(lambda_handler(None, None)['text'])\n",
        "    for i in d:\n",
        "        print(i, '->', d[i])\n"
      ],
      "execution_count": 22,
      "outputs": [
        {
          "output_type": "stream",
          "text": [
            "MechanicalSoup/MechanicalSoup: A Python library for ... -> https://github.com/MechanicalSoup/MechanicalSoup\n",
            "Welcome to MechanicalSoup's documentation! — MechanicalSoup 0 ... -> https://mechanicalsoup.readthedocs.io/\n",
            "MechanicalSoup · PyPI -> https://pypi.org/project/MechanicalSoup/\n",
            "Frequently Asked Questions — MechanicalSoup 0.11.0 documentation -> https://mechanicalsoup.readthedocs.io/en/stable/faq.html\n",
            "MechanicalSoup Documentation - Read the Docs -> https://readthedocs.org/projects/mechanicalsoup/downloads/pdf/latest/\n",
            "MechanicalSoup - reddit -> https://www.reddit.com/r/programming/comments/2aa13s/mechanicalsoup_a_python_library_for_automating/\n",
            "Newest 'mechanicalsoup' Questions - Stack Overflow -> https://stackoverflow.com/questions/tagged/mechanicalsoup\n",
            "MechanicalSoup | Read the Docs -> https://readthedocs.org/projects/mechanicalsoup/\n",
            "MechanicalSoup 0.10.0 on PyPI - Libraries.io -> https://libraries.io/pypi/MechanicalSoup\n",
            "web scraping - Python3 MechanicalSoup -- Basic Form ... -> https://stackoverflow.com/questions/42050190/python3-mechanicalsoup-basic-form-submission-with-aspx\n",
            "Mechanical Supply Co Inc - Fenton Open House -> http://www.mechanicalsupply.com/\n",
            "Has anybody used mechanicalsoup? • r/learnpython - reddit -> https://www.reddit.com/r/learnpython/comments/31d39b/has_anybody_used_mechanicalsoup/\n",
            "3 Python web scrapers and crawlers | Opensource.com -> https://opensource.com/resources/python/web-scraper-crawler\n",
            "Show HN: MechanicalSoup, Python library for automating ... -> https://news.ycombinator.com/item?id=8012103\n",
            "Mechanicalsoup :: Anaconda Cloud -> https://anaconda.org/conda-forge/mechanicalsoup\n",
            "MechanicalSoup Alternatives - Web Crawling | LibHunt -> https://python.libhunt.com/mechanicalsoup-alternatives\n",
            "Part -2 Interacting with Web Pages using MechanicalSoup -> https://steemit.com/utopian-io/@ajmaln/part-2-interacting-with-web-pages-using-mechanicalsoup\n",
            "Best Open Source Web Scraping Frameworks and Tools -> https://www.scrapehero.com/open-source-web-scraping-frameworks-and-tools/\n",
            "Awesome Python -> https://awesome-python.com/\n",
            "mechanize -> http://wwwsearch.sourceforge.net/mechanize/\n",
            "Python3にMechanizeはないのでMechanicalSoupを使え!! - じゃあ、おうちで学べる -> http://syu-m-5151.hatenablog.com/entry/2016/12/18/000943\n",
            "| Fenton, MO -> http://www.mechanicalsupply.com/locations/fenton/\n",
            "MechanicalSoup/examples at master - GitHub -> https://github.com/MechanicalSoup/MechanicalSoup/tree/master/examples\n",
            "Python3 MechanicalSoup — Basic Form Submission with aspx ... -> https://stacks1.wordpress.com/2017/02/05/python3-mechanicalsoup-basic-form-submission-with-aspx/\n",
            "#883366 - python-mechanicalsoup: new upstream version 0.9.0 ... -> https://bugs.debian.org/883366\n",
            "How to webcrawl and download files using Python - Quora -> https://www.quora.com/How-do-you-webcrawl-and-download-files-using-Python?share=1\n",
            "Our Documentation | Python.org -> https://www.python.org/doc/\n",
            "FreshPorts -- www/py-MechanicalSoup -> https://www.freshports.org/www/py-MechanicalSoup/\n",
            "Part-1 Web Scraping using MechanicalSoup — Steemit -> https://steemit.com/utopian-io/@ajmaln/part-1-web-scraping-using-mechanicalsoup\n",
            "Authentication — Requests 2.19.1 documentation -> http://docs.python-requests.org/en/master/user/authentication/\n"
          ],
          "name": "stdout"
        }
      ]
    }
  ]
}